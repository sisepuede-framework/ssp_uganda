{
 "cells": [
  {
   "cell_type": "code",
   "execution_count": 1,
   "id": "2a29eb0a-00ee-494d-9b3d-25da412bf1d5",
   "metadata": {},
   "outputs": [],
   "source": [
    "import copy\n",
    "import datetime as dt\n",
    "import importlib # needed so that we can reload packages\n",
    "import matplotlib.pyplot as plt\n",
    "import os, os.path\n",
    "import numpy as np\n",
    "import pandas as pd\n",
    "import pathlib\n",
    "import sys\n",
    "import time\n",
    "from typing import Union\n",
    "import warnings\n",
    "from datetime import datetime\n",
    "warnings.filterwarnings(\"ignore\")\n",
    "\n",
    "##  IMPORT SISEPUEDE EXAMPLES AND TRANSFORMERS\n",
    "\n",
    "from sisepuede.manager.sisepuede_examples import SISEPUEDEExamples\n",
    "from sisepuede.manager.sisepuede_file_structure import SISEPUEDEFileStructure\n",
    "import sisepuede.core.support_classes as sc\n",
    "import sisepuede.transformers as trf\n",
    "import sisepuede.utilities._plotting as spu\n",
    "import sisepuede.utilities._toolbox as sf"
   ]
  },
  {
   "cell_type": "code",
   "execution_count": 2,
   "id": "49d7c0b6",
   "metadata": {},
   "outputs": [],
   "source": [
    "%load_ext autoreload\n",
    "%autoreload 2"
   ]
  },
  {
   "cell_type": "markdown",
   "id": "f0483f2b",
   "metadata": {},
   "source": [
    "### Initial Set up\n",
    "\n",
    "Make sure to edit the config yaml under croatia/config_files/croatia_config.yaml\n",
    "\n",
    "You can also create a new config yaml\n",
    "\n"
   ]
  },
  {
   "cell_type": "code",
   "execution_count": 3,
   "id": "aebcd791",
   "metadata": {},
   "outputs": [],
   "source": [
    "# Set up dir paths\n",
    "\n",
    "dir_cur = pathlib.Path(os.getcwd())\n",
    "dir_ssp_modeling = dir_cur.parent\n",
    "dir_project = dir_ssp_modeling.parent\n",
    "dir_data = dir_ssp_modeling.joinpath(\"input_data\")\n",
    "dir_out= dir_ssp_modeling.joinpath(\"ssp_run/bau\")\n",
    "dir_scenario_mapping = dir_ssp_modeling.joinpath(\"scenario_mapping\")\n",
    "dir_config = dir_ssp_modeling.joinpath(\"config_files\")\n",
    "dir_transformations = dir_ssp_modeling.joinpath(\"transformations\")\n",
    "dir_misc = dir_ssp_modeling.joinpath(\"misc\")\n",
    "strategies_definitions_file_path = dir_transformations.joinpath(\"strategy_definitions.csv\")\n",
    "strategy_mapping_file_path = dir_misc.joinpath(\"strategy_mapping.yaml\")"
   ]
  },
  {
   "cell_type": "code",
   "execution_count": 4,
   "id": "be25d2a2",
   "metadata": {},
   "outputs": [
    {
     "data": {
      "text/plain": [
       "PosixPath('/home/fabian_fuentes/repos/ssp_uganda/ssp_modeling/scenario_mapping')"
      ]
     },
     "execution_count": 4,
     "metadata": {},
     "output_type": "execute_result"
    }
   ],
   "source": [
    "dir_scenario_mapping"
   ]
  },
  {
   "cell_type": "code",
   "execution_count": 5,
   "id": "ac941c9a",
   "metadata": {},
   "outputs": [],
   "source": [
    "from ssp_transformations_handler.GeneralUtils import GeneralUtils\n",
    "from ssp_transformations_handler.TransformationUtils import TransformationYamlProcessor, StrategyCSVHandler\n",
    "\n",
    "# Initialize general utilities\n",
    "g_utils = GeneralUtils()"
   ]
  },
  {
   "cell_type": "code",
   "execution_count": 6,
   "id": "53908ee6",
   "metadata": {},
   "outputs": [
    {
     "name": "stdout",
     "output_type": "stream",
     "text": [
      "Country name:  uganda\n",
      "SSP input file name:  ssp_inputs_uganda_BaU_Scenario.csv\n",
      "SSP transformation CW:  ssp_uganda_transformation_cw_bau.xlsx\n",
      "Energy model flag:  False\n",
      "Set lndu reallocation factor to zero flag:  True\n"
     ]
    }
   ],
   "source": [
    "# Load config file, double check your parameters are correct\n",
    "\n",
    "yaml_file_path = os.path.join(dir_config, \"bau_config.yaml\")\n",
    "config_params = g_utils.read_yaml(yaml_file_path)\n",
    "\n",
    "country_name = config_params['country_name']\n",
    "ssp_input_file_name = config_params['ssp_input_file_name']\n",
    "ssp_transformation_cw = config_params['ssp_transformation_cw']\n",
    "energy_model_flag = config_params['energy_model_flag']\n",
    "set_lndu_reallocation_factor_to_zero_flag = config_params['set_lndu_reallocation_factor_to_zero']\n",
    "\n",
    "# Print config parameters\n",
    "print(\"Country name: \", country_name)\n",
    "print(\"SSP input file name: \", ssp_input_file_name)\n",
    "print(\"SSP transformation CW: \", ssp_transformation_cw)\n",
    "print(\"Energy model flag: \", energy_model_flag)\n",
    "print(\"Set lndu reallocation factor to zero flag: \", set_lndu_reallocation_factor_to_zero_flag)"
   ]
  },
  {
   "cell_type": "code",
   "execution_count": 7,
   "id": "62c6c558-ba2c-482b-8743-7c46bfb64924",
   "metadata": {},
   "outputs": [],
   "source": [
    "# Set up SSP objects\n",
    "\n",
    "fp_data_base = dir_data.joinpath(ssp_input_file_name)\n",
    "\n",
    "file_struct = SISEPUEDEFileStructure()\n",
    "\n",
    "matt = file_struct.model_attributes\n",
    "regions = sc.Regions(matt)\n",
    "time_periods = sc.TimePeriods(matt)"
   ]
  },
  {
   "cell_type": "markdown",
   "id": "10f64c6a",
   "metadata": {},
   "source": [
    "### Making sure our input file has the correct format and correct columns\n",
    "We use an example df with the complete fields and correct format to make sure our file is in the right shape"
   ]
  },
  {
   "cell_type": "code",
   "execution_count": 8,
   "id": "b8a1e26f-7946-4f4f-a3b1-ff398c9fe211",
   "metadata": {},
   "outputs": [],
   "source": [
    "##  BUILD BASE INPUTS\n",
    "df_inputs_raw_complete = pd.read_csv(fp_data_base)\n",
    "\n",
    "# pull example data to fill in gaps\n",
    "examples = SISEPUEDEExamples()\n",
    "df_inputs_example = examples.input_data_frame"
   ]
  },
  {
   "cell_type": "markdown",
   "id": "2c102f1e",
   "metadata": {},
   "source": [
    "## Evolution gdp_mmm_usd BaU Scenario"
   ]
  },
  {
   "cell_type": "code",
   "execution_count": 9,
   "id": "97363250",
   "metadata": {},
   "outputs": [
    {
     "data": {
      "text/plain": [
       "31    443.314127\n",
       "32    483.212399\n",
       "33    526.701514\n",
       "34    574.104651\n",
       "35    625.774069\n",
       "Name: gdp_mmm_usd, dtype: float64"
      ]
     },
     "execution_count": 9,
     "metadata": {},
     "output_type": "execute_result"
    }
   ],
   "source": [
    "df_inputs_raw_complete['gdp_mmm_usd'].tail()"
   ]
  },
  {
   "cell_type": "code",
   "execution_count": 10,
   "id": "77243117",
   "metadata": {},
   "outputs": [],
   "source": [
    "df_inputs_raw_complete = df_inputs_raw_complete.sort_values(\"time_period\")\n",
    "df_inputs_raw_complete[\"gdp_mmm_usd_pct_change\"] = df_inputs_raw_complete[\"gdp_mmm_usd\"].pct_change() * 100"
   ]
  },
  {
   "cell_type": "code",
   "execution_count": 11,
   "id": "f2c148ea",
   "metadata": {},
   "outputs": [
    {
     "data": {
      "text/html": [
       "<div>\n",
       "<style scoped>\n",
       "    .dataframe tbody tr th:only-of-type {\n",
       "        vertical-align: middle;\n",
       "    }\n",
       "\n",
       "    .dataframe tbody tr th {\n",
       "        vertical-align: top;\n",
       "    }\n",
       "\n",
       "    .dataframe thead th {\n",
       "        text-align: right;\n",
       "    }\n",
       "</style>\n",
       "<table border=\"1\" class=\"dataframe\">\n",
       "  <thead>\n",
       "    <tr style=\"text-align: right;\">\n",
       "      <th></th>\n",
       "      <th>time_period</th>\n",
       "      <th>gdp_mmm_usd</th>\n",
       "      <th>gdp_mmm_usd_pct_change</th>\n",
       "    </tr>\n",
       "  </thead>\n",
       "  <tbody>\n",
       "    <tr>\n",
       "      <th>31</th>\n",
       "      <td>31</td>\n",
       "      <td>443.314127</td>\n",
       "      <td>9.0</td>\n",
       "    </tr>\n",
       "    <tr>\n",
       "      <th>32</th>\n",
       "      <td>32</td>\n",
       "      <td>483.212399</td>\n",
       "      <td>9.0</td>\n",
       "    </tr>\n",
       "    <tr>\n",
       "      <th>33</th>\n",
       "      <td>33</td>\n",
       "      <td>526.701514</td>\n",
       "      <td>9.0</td>\n",
       "    </tr>\n",
       "    <tr>\n",
       "      <th>34</th>\n",
       "      <td>34</td>\n",
       "      <td>574.104651</td>\n",
       "      <td>9.0</td>\n",
       "    </tr>\n",
       "    <tr>\n",
       "      <th>35</th>\n",
       "      <td>35</td>\n",
       "      <td>625.774069</td>\n",
       "      <td>9.0</td>\n",
       "    </tr>\n",
       "  </tbody>\n",
       "</table>\n",
       "</div>"
      ],
      "text/plain": [
       "    time_period  gdp_mmm_usd  gdp_mmm_usd_pct_change\n",
       "31           31   443.314127                     9.0\n",
       "32           32   483.212399                     9.0\n",
       "33           33   526.701514                     9.0\n",
       "34           34   574.104651                     9.0\n",
       "35           35   625.774069                     9.0"
      ]
     },
     "execution_count": 11,
     "metadata": {},
     "output_type": "execute_result"
    }
   ],
   "source": [
    "df_inputs_raw_complete[['time_period','gdp_mmm_usd','gdp_mmm_usd_pct_change']].tail()"
   ]
  },
  {
   "cell_type": "code",
   "execution_count": 12,
   "id": "122761d3",
   "metadata": {},
   "outputs": [
    {
     "data": {
      "image/png": "[encoded data removed]",
      "text/plain": [
       "<Figure size 1000x600 with 1 Axes>"
      ]
     },
     "metadata": {},
     "output_type": "display_data"
    }
   ],
   "source": [
    "plt.figure(figsize=(10,6))\n",
    "plt.plot(df_inputs_raw_complete[\"time_period\"], df_inputs_raw_complete[\"gdp_mmm_usd_pct_change\"], marker='o', linestyle='-')\n",
    "\n",
    "plt.xlabel(\"Time Period\")\n",
    "plt.ylabel(\"Annual Change in GDP (Billion US Dollars)\")\n",
    "plt.title(\"Annual Variation in GDP (Absolute Change)\")\n",
    "plt.axhline(0, color='black', linestyle='--')  # Línea base\n",
    "plt.grid(True)\n",
    "plt.tight_layout()\n",
    "plt.show()\n",
    "\n",
    "plt.show()"
   ]
  },
  {
   "cell_type": "code",
   "execution_count": 13,
   "id": "3f92d6e8",
   "metadata": {},
   "outputs": [
    {
     "data": {
      "image/png": "[encoded data removed]",
      "text/plain": [
       "<Figure size 1000x600 with 1 Axes>"
      ]
     },
     "metadata": {},
     "output_type": "display_data"
    }
   ],
   "source": [
    "plt.figure(figsize=(10, 6))\n",
    "plt.plot(df_inputs_raw_complete[\"time_period\"], df_inputs_raw_complete[\"gdp_mmm_usd\"], marker='o')\n",
    "\n",
    "plt.show()"
   ]
  },
  {
   "cell_type": "markdown",
   "id": "91491c34-78de-4bf9-bed3-3d69613bace7",
   "metadata": {},
   "source": [
    "#  Let's try building transformations using this\n"
   ]
  },
  {
   "cell_type": "code",
   "execution_count": 14,
   "id": "8f21339f-7e93-4123-aa07-8a12f0316756",
   "metadata": {},
   "outputs": [],
   "source": [
    "transformers = trf.transformers.Transformers(\n",
    "    {},\n",
    "    df_input = df_inputs_raw_complete,\n",
    ")"
   ]
  },
  {
   "cell_type": "markdown",
   "id": "d93521f1-0fa0-4f09-9b6e-def5662df3d8",
   "metadata": {},
   "source": [
    "##  Instantiate some transformations. Make sure to run this cell to create the transformations folder for the first time or if you wish to overwrite"
   ]
  },
  {
   "cell_type": "code",
   "execution_count": 15,
   "id": "e85aa9b2-412c-44f7-b75f-3bc486202843",
   "metadata": {},
   "outputs": [
    {
     "name": "stdout",
     "output_type": "stream",
     "text": [
      "Directory /home/fabian_fuentes/repos/ssp_uganda/ssp_modeling/transformations already exists. Skipping instantiation.\n"
     ]
    }
   ],
   "source": [
    "# set an ouput path and instantiate\n",
    "if not dir_transformations.exists():\n",
    "    trf.instantiate_default_strategy_directory(\n",
    "        transformers,\n",
    "        dir_transformations,\n",
    "    )\n",
    "else:\n",
    "    print(f\"Directory {dir_transformations} already exists. Skipping instantiation.\")\n"
   ]
  },
  {
   "cell_type": "markdown",
   "id": "14522780-2f45-4402-8889-365f1d319303",
   "metadata": {},
   "source": [
    "##  --HERE, CUSTOMIZE YOUR TRANSFORMATIONS AND STRATEGIES--"
   ]
  },
  {
   "cell_type": "markdown",
   "id": "03361640",
   "metadata": {},
   "source": [
    "### Customizing transformations and strategies files using TransformationUtils.py classes"
   ]
  },
  {
   "cell_type": "code",
   "execution_count": 16,
   "id": "9518b80c",
   "metadata": {},
   "outputs": [
    {
     "name": "stdout",
     "output_type": "stream",
     "text": [
      "\u001b[31mInit signature:\u001b[39m\n",
      "TransformationYamlProcessor(\n",
      "    scenario_mapping_excel_path,\n",
      "    yaml_dir_path,\n",
      "    sheet_name=\u001b[33m'yaml'\u001b[39m,\n",
      ")\n",
      "\u001b[31mDocstring:\u001b[39m     \n",
      "TransformationYamlProcessor is a class designed to handle the processing of YAML files based on scenario mappings provided in an Excel file. It provides methods to load scenario mappings, retrieve strategy names, load YAML data, save modified YAML files, and process YAML files according to specified transformations.\n",
      "Methods:\n",
      "    __init__(self, scenario_mapping_excel_path, yaml_dir_path, sheet_name='yaml'):\n",
      "        Initializes the TransformationYamlProcessor class with the given parameters.\n",
      "    load_scenario_mapping_excel(self):\n",
      "    load_yaml_data(self, yaml_file_path):\n",
      "    get_strategy_names(self):\n",
      "    save_yaml_file(self, yaml_content, yaml_name, column, transformation_code, subsector, transformation_name, scalar_val):\n",
      "    get_transformations_per_strategy_dict(self):\n",
      "    process_yaml_files(self):\n",
      "\u001b[31mInit docstring:\u001b[39m\n",
      "Initializes the TransformationUtils class with the given parameters.\n",
      "Args:\n",
      "    scenario_mapping_excel_path (str): The file path to the scenario mapping Excel file.\n",
      "    yaml_dir_path (str): The directory path where YAML files are stored.\n",
      "    sheet_name (str, optional): The name of the sheet in the Excel file to load. Defaults to 'yaml'.\n",
      "Attributes:\n",
      "    scenario_mapping_excel_path (str): Stores the file path to the scenario mapping Excel file.\n",
      "    sheet_name (str): Stores the name of the sheet in the Excel file to load.\n",
      "    yaml_dir_path (str): Stores the directory path where YAML files are stored.\n",
      "    mapping_df (DataFrame): DataFrame containing the loaded scenario mapping from the Excel file.\n",
      "\u001b[31mFile:\u001b[39m           ~/anaconda3/envs/ssp_uganda/lib/python3.11/site-packages/ssp_transformations_handler/TransformationUtils.py\n",
      "\u001b[31mType:\u001b[39m           type\n",
      "\u001b[31mSubclasses:\u001b[39m     "
     ]
    }
   ],
   "source": [
    "?TransformationYamlProcessor"
   ]
  },
  {
   "cell_type": "code",
   "execution_count": 17,
   "id": "cd47d570",
   "metadata": {},
   "outputs": [
    {
     "name": "stdout",
     "output_type": "stream",
     "text": [
      "/home/fabian_fuentes/repos/ssp_uganda/ssp_modeling/scenario_mapping/ssp_uganda_transformation_cw_bau.xlsx\n"
     ]
    }
   ],
   "source": [
    "# Generate new transformation files based on the excel mapping file. \n",
    "# Make sure to have the most updated format for the excel file, check the one used in this notebook for reference.\n",
    "\n",
    "cw_file_path = os.path.join(dir_scenario_mapping, ssp_transformation_cw)\n",
    "print(cw_file_path)\n",
    "excel_yaml_handler = TransformationYamlProcessor(scenario_mapping_excel_path=cw_file_path, yaml_dir_path=dir_transformations)"
   ]
  },
  {
   "cell_type": "code",
   "execution_count": 18,
   "id": "ddac9676",
   "metadata": {},
   "outputs": [
    {
     "name": "stdout",
     "output_type": "stream",
     "text": [
      "YAML file transformation_agrc_inc_conservation_agriculture.yaml already exist for strategy strategy_NDC. Please check it manually.\n",
      "YAML file transformation_agrc_inc_conservation_agriculture.yaml already exist for strategy strategy_NZ. Please check it manually.\n",
      "YAML file transformation_inen_shift_fuel_heat.yaml already exist for strategy strategy_NZ. Please check it manually.\n",
      "YAML file transformation_lsmm_inc_management_cattle_pigs.yaml already exist for strategy strategy_NDC. Please check it manually.\n",
      "YAML file transformation_lsmm_inc_management_cattle_pigs.yaml already exist for strategy strategy_NZ. Please check it manually.\n",
      "YAML file transformation_lsmm_inc_management_other.yaml already exist for strategy strategy_NDC. Please check it manually.\n",
      "YAML file transformation_lsmm_inc_management_other.yaml already exist for strategy strategy_NZ. Please check it manually.\n",
      "YAML file transformation_lsmm_inc_management_poultry.yaml already exist for strategy strategy_NDC. Please check it manually.\n",
      "YAML file transformation_lsmm_inc_management_poultry.yaml already exist for strategy strategy_NZ. Please check it manually.\n",
      "YAML file transformation_lvst_dec_enteric_fermentation.yaml already exist for strategy strategy_NZ. Please check it manually.\n",
      "YAML file transformation_pflo_inc_ind_ccs.yaml already exist for strategy strategy_NZ. Please check it manually.\n",
      "YAML file transformation_trns_shift_mode_regional.yaml already exist for strategy strategy_NDC. Please check it manually.\n",
      "YAML file transformation_trns_shift_mode_regional.yaml already exist for strategy strategy_NZ. Please check it manually.\n",
      "YAML file transformation_wali_inc_treatment_industrial.yaml already exist for strategy strategy_NDC. Please check it manually.\n",
      "YAML file transformation_wali_inc_treatment_industrial.yaml already exist for strategy strategy_NZ. Please check it manually.\n",
      "YAML file transformation_wali_inc_treatment_rural.yaml already exist for strategy strategy_NDC. Please check it manually.\n",
      "YAML file transformation_wali_inc_treatment_rural.yaml already exist for strategy strategy_NZ. Please check it manually.\n",
      "YAML file transformation_wali_inc_treatment_urban.yaml already exist for strategy strategy_NDC. Please check it manually.\n",
      "YAML file transformation_wali_inc_treatment_urban.yaml already exist for strategy strategy_NZ. Please check it manually.\n",
      "YAML file transformation_waso_inc_anaerobic_and_compost.yaml already exist for strategy strategy_NZ. Please check it manually.\n"
     ]
    }
   ],
   "source": [
    "# This creates transformation yaml files for each strategy in the excel file\n",
    "excel_yaml_handler.process_yaml_files()"
   ]
  },
  {
   "cell_type": "code",
   "execution_count": 19,
   "id": "d42f66a2",
   "metadata": {},
   "outputs": [
    {
     "data": {
      "text/plain": [
       "{'strategy_NDC': ['TX:AGRC:DEC_CH4_RICE_STRATEGY_NDC',\n",
       "  'TX:AGRC:INC_CONSERVATION_AGRICULTURE_STRATEGY_NDC',\n",
       "  'TX:AGRC:INC_PRODUCTIVITY_STRATEGY_NDC',\n",
       "  'TX:ENTC:DEC_LOSSES_STRATEGY_NDC',\n",
       "  'TX:ENTC:TARGET_CLEAN_HYDROGEN_STRATEGY_NDC',\n",
       "  'TX:ENTC:TARGET_RENEWABLE_ELEC_STRATEGY_NDC',\n",
       "  'TX:INEN:INC_EFFICIENCY_ENERGY_STRATEGY_NDC',\n",
       "  'TX:INEN:INC_EFFICIENCY_PRODUCTION_STRATEGY_NDC',\n",
       "  'TX:IPPU:DEC_CLINKER_STRATEGY_NDC',\n",
       "  'TX:IPPU:DEC_DEMAND_STRATEGY_NDC',\n",
       "  'TX:IPPU:DEC_HFCS_STRATEGY_NDC',\n",
       "  'TX:LNDU:DEC_DEFORESTATION_STRATEGY_NDC',\n",
       "  'TX:LNDU:INC_REFORESTATION_STRATEGY_NDC',\n",
       "  'TX:LSMM:INC_CAPTURE_BIOGAS_STRATEGY_NDC',\n",
       "  'TX:LSMM:INC_MANAGEMENT_CATTLE_PIGS_STRATEGY_NDC',\n",
       "  'TX:LSMM:INC_MANAGEMENT_OTHER_STRATEGY_NDC',\n",
       "  'TX:LSMM:INC_MANAGEMENT_POULTRY_STRATEGY_NDC',\n",
       "  'TX:LVST:INC_PRODUCTIVITY_STRATEGY_NDC',\n",
       "  'TX:SOIL:DEC_LIME_APPLIED_STRATEGY_NDC',\n",
       "  'TX:SOIL:DEC_N_APPLIED_STRATEGY_NDC',\n",
       "  'TX:TRDE:DEC_DEMAND_STRATEGY_NDC',\n",
       "  'TX:TRNS:INC_EFFICIENCY_ELECTRIC_STRATEGY_NDC',\n",
       "  'TX:TRNS:INC_EFFICIENCY_NON_ELECTRIC_STRATEGY_NDC',\n",
       "  'TX:TRNS:SHIFT_FUEL_MARITIME_STRATEGY_NDC',\n",
       "  'TX:TRNS:SHIFT_FUEL_MEDIUM_DUTY_STRATEGY_NDC',\n",
       "  'TX:TRNS:SHIFT_MODE_FREIGHT_STRATEGY_NDC',\n",
       "  'TX:TRNS:SHIFT_MODE_PASSENGER_STRATEGY_NDC',\n",
       "  'TX:TRNS:SHIFT_MODE_REGIONAL_STRATEGY_NDC',\n",
       "  'TX:TRWW:INC_COMPLIANCE_SEPTIC_STRATEGY_NDC',\n",
       "  'TX:WALI:INC_TREATMENT_INDUSTRIAL_STRATEGY_NDC',\n",
       "  'TX:WALI:INC_TREATMENT_RURAL_STRATEGY_NDC',\n",
       "  'TX:WALI:INC_TREATMENT_URBAN_STRATEGY_NDC',\n",
       "  'TX:WASO:DEC_CONSUMER_FOOD_WASTE_STRATEGY_NDC',\n",
       "  'TX:WASO:INC_CAPTURE_BIOGAS_STRATEGY_NDC',\n",
       "  'TX:WASO:INC_ENERGY_FROM_BIOGAS_STRATEGY_NDC',\n",
       "  'TX:WASO:INC_ENERGY_FROM_INCINERATION_STRATEGY_NDC',\n",
       "  'TX:WASO:INC_LANDFILLING_STRATEGY_NDC',\n",
       "  'TX:WASO:INC_RECYCLING_STRATEGY_NDC'],\n",
       " 'strategy_NZ': ['TX:AGRC:DEC_CH4_RICE_STRATEGY_NZ',\n",
       "  'TX:AGRC:DEC_EXPORTS_STRATEGY_NZ',\n",
       "  'TX:AGRC:DEC_LOSSES_SUPPLY_CHAIN_STRATEGY_NZ',\n",
       "  'TX:AGRC:INC_CONSERVATION_AGRICULTURE_STRATEGY_NZ',\n",
       "  'TX:AGRC:INC_PRODUCTIVITY_STRATEGY_NZ',\n",
       "  'TX:CCSQ:INC_CAPTURE_STRATEGY_NZ',\n",
       "  'TX:ENTC:DEC_LOSSES_STRATEGY_NZ',\n",
       "  'TX:ENTC:TARGET_CLEAN_HYDROGEN_STRATEGY_NZ',\n",
       "  'TX:ENTC:TARGET_RENEWABLE_ELEC_STRATEGY_NZ',\n",
       "  'TX:FGTV:DEC_LEAKS_STRATEGY_NZ',\n",
       "  'TX:FGTV:INC_FLARE_STRATEGY_NZ',\n",
       "  'TX:INEN:INC_EFFICIENCY_ENERGY_STRATEGY_NZ',\n",
       "  'TX:INEN:INC_EFFICIENCY_PRODUCTION_STRATEGY_NZ',\n",
       "  'TX:INEN:SHIFT_FUEL_HEAT_STRATEGY_NZ',\n",
       "  'TX:IPPU:DEC_CLINKER_STRATEGY_NZ',\n",
       "  'TX:IPPU:DEC_DEMAND_STRATEGY_NZ',\n",
       "  'TX:IPPU:DEC_HFCS_STRATEGY_NZ',\n",
       "  'TX:IPPU:DEC_N2O_STRATEGY_NZ',\n",
       "  'TX:IPPU:DEC_OTHER_FCS_STRATEGY_NZ',\n",
       "  'TX:IPPU:DEC_PFCS_STRATEGY_NZ',\n",
       "  'TX:LNDU:DEC_DEFORESTATION_STRATEGY_NZ',\n",
       "  'TX:LNDU:INC_REFORESTATION_STRATEGY_NZ',\n",
       "  'TX:LSMM:INC_CAPTURE_BIOGAS_STRATEGY_NZ',\n",
       "  'TX:LSMM:INC_MANAGEMENT_CATTLE_PIGS_STRATEGY_NZ',\n",
       "  'TX:LSMM:INC_MANAGEMENT_OTHER_STRATEGY_NZ',\n",
       "  'TX:LSMM:INC_MANAGEMENT_POULTRY_STRATEGY_NZ',\n",
       "  'TX:LVST:DEC_ENTERIC_FERMENTATION_STRATEGY_NZ',\n",
       "  'TX:LVST:DEC_EXPORTS_STRATEGY_NZ',\n",
       "  'TX:LVST:INC_PRODUCTIVITY_STRATEGY_NZ',\n",
       "  'TX:PFLO:INC_IND_CCS_STRATEGY_NZ',\n",
       "  'TX:SCOE:DEC_DEMAND_HEAT_STRATEGY_NZ',\n",
       "  'TX:SCOE:INC_EFFICIENCY_APPLIANCE_STRATEGY_NZ',\n",
       "  'TX:SCOE:SHIFT_FUEL_HEAT_STRATEGY_NZ',\n",
       "  'TX:SOIL:DEC_LIME_APPLIED_STRATEGY_NZ',\n",
       "  'TX:SOIL:DEC_N_APPLIED_STRATEGY_NZ',\n",
       "  'TX:TRDE:DEC_DEMAND_STRATEGY_NZ',\n",
       "  'TX:TRNS:INC_EFFICIENCY_ELECTRIC_STRATEGY_NZ',\n",
       "  'TX:TRNS:INC_EFFICIENCY_NON_ELECTRIC_STRATEGY_NZ',\n",
       "  'TX:TRNS:INC_OCCUPANCY_LIGHT_DUTY_STRATEGY_NZ',\n",
       "  'TX:TRNS:SHIFT_FUEL_LIGHT_DUTY_STRATEGY_NZ',\n",
       "  'TX:TRNS:SHIFT_FUEL_MARITIME_STRATEGY_NZ',\n",
       "  'TX:TRNS:SHIFT_FUEL_MEDIUM_DUTY_STRATEGY_NZ',\n",
       "  'TX:TRNS:SHIFT_FUEL_RAIL_STRATEGY_NZ',\n",
       "  'TX:TRNS:SHIFT_MODE_FREIGHT_STRATEGY_NZ',\n",
       "  'TX:TRNS:SHIFT_MODE_PASSENGER_STRATEGY_NZ',\n",
       "  'TX:TRNS:SHIFT_MODE_REGIONAL_STRATEGY_NZ',\n",
       "  'TX:TRWW:INC_CAPTURE_BIOGAS_STRATEGY_NZ',\n",
       "  'TX:TRWW:INC_COMPLIANCE_SEPTIC_STRATEGY_NZ',\n",
       "  'TX:WALI:INC_TREATMENT_INDUSTRIAL_STRATEGY_NZ',\n",
       "  'TX:WALI:INC_TREATMENT_RURAL_STRATEGY_NZ',\n",
       "  'TX:WALI:INC_TREATMENT_URBAN_STRATEGY_NZ',\n",
       "  'TX:WASO:DEC_CONSUMER_FOOD_WASTE_STRATEGY_NZ',\n",
       "  'TX:WASO:INC_ANAEROBIC_AND_COMPOST_STRATEGY_NZ',\n",
       "  'TX:WASO:INC_CAPTURE_BIOGAS_STRATEGY_NZ',\n",
       "  'TX:WASO:INC_ENERGY_FROM_BIOGAS_STRATEGY_NZ',\n",
       "  'TX:WASO:INC_ENERGY_FROM_INCINERATION_STRATEGY_NZ',\n",
       "  'TX:WASO:INC_LANDFILLING_STRATEGY_NZ',\n",
       "  'TX:WASO:INC_RECYCLING_STRATEGY_NZ'],\n",
       " 'strategy_BAU': ['TX:AGRC:INC_PRODUCTIVITY_STRATEGY_BAU',\n",
       "  'TX:LVST:INC_PRODUCTIVITY_STRATEGY_BAU']}"
      ]
     },
     "execution_count": 19,
     "metadata": {},
     "output_type": "execute_result"
    }
   ],
   "source": [
    "# Load the transformations per strategy dictionary so we can pass it to the strategy handler\n",
    "# You can also check here if the transformations in each strategy are correct\n",
    "transformation_per_strategy_dict = excel_yaml_handler.get_transformations_per_strategy_dict()\n",
    "transformation_per_strategy_dict"
   ]
  },
  {
   "cell_type": "code",
   "execution_count": 20,
   "id": "958fcda4",
   "metadata": {},
   "outputs": [
    {
     "data": {
      "text/plain": [
       "dict_keys(['strategy_NDC', 'strategy_NZ', 'strategy_BAU'])"
      ]
     },
     "execution_count": 20,
     "metadata": {},
     "output_type": "execute_result"
    }
   ],
   "source": [
    "transformation_per_strategy_dict.keys()"
   ]
  },
  {
   "cell_type": "markdown",
   "id": "cb689de1",
   "metadata": {},
   "source": [
    "### Creating new strategies\n",
    "- You can create new strategies from scratch.\n",
    "- You can also update existing ones."
   ]
  },
  {
   "cell_type": "code",
   "execution_count": 21,
   "id": "ea277ea6",
   "metadata": {},
   "outputs": [
    {
     "name": "stdout",
     "output_type": "stream",
     "text": [
      "INFO: Strategy code PFLO:NDC already exists in the strategy definitions. Strategy will be updated...\n",
      "Updated row with strategy_code PFLO:NDC\n",
      "INFO: Strategy code PFLO:NZ already exists in the strategy definitions. Strategy will be updated...\n",
      "Updated row with strategy_code PFLO:NZ\n",
      "INFO: Strategy code PFLO:BAU already exists in the strategy definitions. Strategy will be updated...\n",
      "Updated row with strategy_code PFLO:BAU\n"
     ]
    }
   ],
   "source": [
    "# Creating new strategies by updating the strategy_definitions file.\n",
    "# You can edit this to add yours, as many as you want.\n",
    "csv_handler = StrategyCSVHandler(strategies_definitions_file_path, dir_transformations, strategy_mapping_file_path, transformation_per_strategy_dict)\n",
    "\n",
    "#csv_handler.add_strategy(strategy_group='PFLO', description='NDC BaU', yaml_file_suffix='BaU')\n",
    "csv_handler.add_strategy(strategy_group='PFLO', description='NDC', yaml_file_suffix='NDC')\n",
    "csv_handler.add_strategy(strategy_group='PFLO', description='Net Zero', yaml_file_suffix='NZ')\n",
    "csv_handler.add_strategy(strategy_group='PFLO', description='S BAU', yaml_file_suffix='BAU')\n"
   ]
  },
  {
   "cell_type": "code",
   "execution_count": 22,
   "id": "cf8763ef",
   "metadata": {},
   "outputs": [],
   "source": [
    "# Set up the strategy codes you wish to run in ssp\n",
    "strategies_to_run = [0, 6003, 6004, 6005]"
   ]
  },
  {
   "cell_type": "markdown",
   "id": "4285850f",
   "metadata": {},
   "source": [
    "# Manual modification YAML"
   ]
  },
  {
   "cell_type": "markdown",
   "id": "c6b20f6b",
   "metadata": {},
   "source": [
    "## TX:LNDU:DEC_DEFORESTATION"
   ]
  },
  {
   "cell_type": "code",
   "execution_count": 23,
   "id": "6829823d",
   "metadata": {},
   "outputs": [],
   "source": [
    "\n",
    "import yaml\n",
    "\n",
    "with open(os.path.join(dir_transformations, 'transformation_lndu_dec_deforestation_strategy_NZ.yaml'), 'r') as file:\n",
    "    data = yaml.safe_load(file)\n",
    "\n",
    "\n",
    "data['parameters']['magnitude'] = 0.9999999   \n",
    "\n",
    "\n",
    "with open(os.path.join(dir_transformations, 'transformation_lndu_dec_deforestation_strategy_NZ.yaml'), 'w') as file:\n",
    "    yaml.dump(data, file, sort_keys=False)\n",
    "\n",
    "  "
   ]
  },
  {
   "cell_type": "code",
   "execution_count": 24,
   "id": "9e7643c8",
   "metadata": {},
   "outputs": [],
   "source": [
    "\n",
    "with open(os.path.join(dir_transformations, 'transformation_lndu_dec_deforestation_strategy_NDC.yaml'), 'r') as file:\n",
    "    data = yaml.safe_load(file)\n",
    "\n",
    "\n",
    "data['parameters']['magnitude'] = 0.996\n",
    "\n",
    "\n",
    "with open(os.path.join(dir_transformations, 'transformation_lndu_dec_deforestation_strategy_NDC.yaml'), 'w') as file:\n",
    "    yaml.dump(data, file, sort_keys=False) "
   ]
  },
  {
   "cell_type": "markdown",
   "id": "02060a95",
   "metadata": {},
   "source": [
    "## TX:AGRC:INC_CONSERVATION_AGRICULTURE"
   ]
  },
  {
   "cell_type": "code",
   "execution_count": 25,
   "id": "a0b49930",
   "metadata": {},
   "outputs": [],
   "source": [
    "with open(os.path.join(dir_transformations, 'transformation_agrc_inc_conservation_agriculture_strategy_NZ.yaml'), 'r') as file:\n",
    "    data = yaml.safe_load(file)\n",
    "\n",
    "\n",
    "data['parameters']['magnitude_burned'] = 0.8\n",
    "data['parameters']['magnitude_removed'] = 0.8   \n",
    "\n",
    "\n",
    "with open(os.path.join(dir_transformations, 'transformation_agrc_inc_conservation_agriculture_strategy_NZ.yaml'), 'w') as file:\n",
    "    yaml.dump(data, file, sort_keys=False) "
   ]
  },
  {
   "cell_type": "code",
   "execution_count": 26,
   "id": "aadbc8fa",
   "metadata": {},
   "outputs": [],
   "source": [
    "with open(os.path.join(dir_transformations, 'transformation_agrc_inc_conservation_agriculture_strategy_NDC.yaml'), 'r') as file:\n",
    "    data = yaml.safe_load(file)\n",
    "\n",
    "\n",
    "data['parameters']['magnitude_burned'] = 0.6\n",
    "data['parameters']['magnitude_removed'] = 0.6   \n",
    "\n",
    "\n",
    "with open(os.path.join(dir_transformations, 'transformation_agrc_inc_conservation_agriculture_strategy_NDC.yaml'), 'w') as file:\n",
    "    yaml.dump(data, file, sort_keys=False) "
   ]
  },
  {
   "cell_type": "markdown",
   "id": "5b7c7b74",
   "metadata": {},
   "source": [
    "### We finished adding new transformation files and strategies so lets load them back"
   ]
  },
  {
   "cell_type": "code",
   "execution_count": 27,
   "id": "57bd1a2f-4f3e-4c78-b9a6-b00446ee44ad",
   "metadata": {},
   "outputs": [],
   "source": [
    "# then, you can load this back in after modifying (play around with it)\n",
    "transformations = trf.Transformations(\n",
    "    dir_transformations,\n",
    "    transformers = transformers,\n",
    ")\n",
    "tab = transformations.attribute_transformation.table"
   ]
  },
  {
   "cell_type": "code",
   "execution_count": 28,
   "id": "d20cd07a-feb1-4b4c-a755-43d0f639e3c7",
   "metadata": {},
   "outputs": [
    {
     "name": "stdout",
     "output_type": "stream",
     "text": [
      "Strategies defined at /home/fabian_fuentes/repos/ssp_uganda/ssp_modeling/transformations initialized in 2.75 seconds\n"
     ]
    }
   ],
   "source": [
    "#  build the strategies -- will export to path\n",
    "t0 = time.time()\n",
    "strategies = trf.Strategies(\n",
    "    transformations,\n",
    "    export_path = \"transformations\",\n",
    "    prebuild = True,\n",
    ")\n",
    "\n",
    "t_elapse = sf.get_time_elapsed(t0)\n",
    "print(f\"Strategies defined at {strategies.transformations.dir_init} initialized in {t_elapse} seconds\")"
   ]
  },
  {
   "cell_type": "code",
   "execution_count": 29,
   "id": "937acf95-47c5-42d2-bec4-1960ca8bb3b1",
   "metadata": {},
   "outputs": [
    {
     "data": {
      "text/html": [
       "<div>\n",
       "<style scoped>\n",
       "    .dataframe tbody tr th:only-of-type {\n",
       "        vertical-align: middle;\n",
       "    }\n",
       "\n",
       "    .dataframe tbody tr th {\n",
       "        vertical-align: top;\n",
       "    }\n",
       "\n",
       "    .dataframe thead th {\n",
       "        text-align: right;\n",
       "    }\n",
       "</style>\n",
       "<table border=\"1\" class=\"dataframe\">\n",
       "  <thead>\n",
       "    <tr style=\"text-align: right;\">\n",
       "      <th></th>\n",
       "      <th>strategy_id</th>\n",
       "      <th>strategy_code</th>\n",
       "      <th>strategy</th>\n",
       "      <th>description</th>\n",
       "      <th>transformation_specification</th>\n",
       "      <th>baseline_strategy_id</th>\n",
       "    </tr>\n",
       "  </thead>\n",
       "  <tbody>\n",
       "    <tr>\n",
       "      <th>0</th>\n",
       "      <td>0</td>\n",
       "      <td>BASE</td>\n",
       "      <td>Strategy TX:BASE</td>\n",
       "      <td>NaN</td>\n",
       "      <td>TX:BASE</td>\n",
       "      <td>1</td>\n",
       "    </tr>\n",
       "    <tr>\n",
       "      <th>1</th>\n",
       "      <td>1000</td>\n",
       "      <td>AGRC:DEC_CH4_RICE</td>\n",
       "      <td>Singleton - Default Value - AGRC: Improve rice...</td>\n",
       "      <td>NaN</td>\n",
       "      <td>TX:AGRC:DEC_CH4_RICE</td>\n",
       "      <td>0</td>\n",
       "    </tr>\n",
       "    <tr>\n",
       "      <th>2</th>\n",
       "      <td>1001</td>\n",
       "      <td>AGRC:DEC_EXPORTS</td>\n",
       "      <td>Singleton - Default Value - AGRC: Decrease Exp...</td>\n",
       "      <td>NaN</td>\n",
       "      <td>TX:AGRC:DEC_EXPORTS</td>\n",
       "      <td>0</td>\n",
       "    </tr>\n",
       "    <tr>\n",
       "      <th>3</th>\n",
       "      <td>1002</td>\n",
       "      <td>AGRC:DEC_LOSSES_SUPPLY_CHAIN</td>\n",
       "      <td>Singleton - Default Value - AGRC: Reduce suppl...</td>\n",
       "      <td>NaN</td>\n",
       "      <td>TX:AGRC:DEC_LOSSES_SUPPLY_CHAIN</td>\n",
       "      <td>0</td>\n",
       "    </tr>\n",
       "    <tr>\n",
       "      <th>4</th>\n",
       "      <td>1003</td>\n",
       "      <td>AGRC:INC_CONSERVATION_AGRICULTURE</td>\n",
       "      <td>Singleton - Default Value - AGRC: Expand conse...</td>\n",
       "      <td>NaN</td>\n",
       "      <td>TX:AGRC:INC_CONSERVATION_AGRICULTURE</td>\n",
       "      <td>0</td>\n",
       "    </tr>\n",
       "    <tr>\n",
       "      <th>...</th>\n",
       "      <td>...</td>\n",
       "      <td>...</td>\n",
       "      <td>...</td>\n",
       "      <td>...</td>\n",
       "      <td>...</td>\n",
       "      <td>...</td>\n",
       "    </tr>\n",
       "    <tr>\n",
       "      <th>68</th>\n",
       "      <td>6002</td>\n",
       "      <td>PFLO:ALL</td>\n",
       "      <td>All Actions</td>\n",
       "      <td>All actions (unique by transformer)</td>\n",
       "      <td>TX:AGRC:DEC_CH4_RICE|TX:AGRC:DEC_EXPORTS|TX:AG...</td>\n",
       "      <td>0</td>\n",
       "    </tr>\n",
       "    <tr>\n",
       "      <th>69</th>\n",
       "      <td>6003</td>\n",
       "      <td>PFLO:NDC</td>\n",
       "      <td>NDC</td>\n",
       "      <td>NDC</td>\n",
       "      <td>TX:AGRC:DEC_CH4_RICE_STRATEGY_NDC|TX:AGRC:INC_...</td>\n",
       "      <td>0</td>\n",
       "    </tr>\n",
       "    <tr>\n",
       "      <th>70</th>\n",
       "      <td>6004</td>\n",
       "      <td>PFLO:NZ</td>\n",
       "      <td>NZ</td>\n",
       "      <td>Net Zero</td>\n",
       "      <td>TX:SCOE:DEC_DEMAND_HEAT_STRATEGY_NZ|TX:AGRC:DE...</td>\n",
       "      <td>0</td>\n",
       "    </tr>\n",
       "    <tr>\n",
       "      <th>71</th>\n",
       "      <td>6005</td>\n",
       "      <td>PFLO:BAU</td>\n",
       "      <td>BAU</td>\n",
       "      <td>S BAU</td>\n",
       "      <td>TX:LVST:INC_PRODUCTIVITY_STRATEGY_BAU|TX:AGRC:...</td>\n",
       "      <td>0</td>\n",
       "    </tr>\n",
       "    <tr>\n",
       "      <th>72</th>\n",
       "      <td>6006</td>\n",
       "      <td>PFLO:ASP</td>\n",
       "      <td>ASP</td>\n",
       "      <td>S ASP</td>\n",
       "      <td>TX:LVST:INC_PRODUCTIVITY_STRATEGY_ASP|TX:AGRC:...</td>\n",
       "      <td>0</td>\n",
       "    </tr>\n",
       "  </tbody>\n",
       "</table>\n",
       "<p>73 rows × 6 columns</p>\n",
       "</div>"
      ],
      "text/plain": [
       "    strategy_id                      strategy_code  \\\n",
       "0             0                               BASE   \n",
       "1          1000                  AGRC:DEC_CH4_RICE   \n",
       "2          1001                   AGRC:DEC_EXPORTS   \n",
       "3          1002       AGRC:DEC_LOSSES_SUPPLY_CHAIN   \n",
       "4          1003  AGRC:INC_CONSERVATION_AGRICULTURE   \n",
       "..          ...                                ...   \n",
       "68         6002                           PFLO:ALL   \n",
       "69         6003                           PFLO:NDC   \n",
       "70         6004                            PFLO:NZ   \n",
       "71         6005                           PFLO:BAU   \n",
       "72         6006                           PFLO:ASP   \n",
       "\n",
       "                                             strategy  \\\n",
       "0                                    Strategy TX:BASE   \n",
       "1   Singleton - Default Value - AGRC: Improve rice...   \n",
       "2   Singleton - Default Value - AGRC: Decrease Exp...   \n",
       "3   Singleton - Default Value - AGRC: Reduce suppl...   \n",
       "4   Singleton - Default Value - AGRC: Expand conse...   \n",
       "..                                                ...   \n",
       "68                                        All Actions   \n",
       "69                                                NDC   \n",
       "70                                                 NZ   \n",
       "71                                                BAU   \n",
       "72                                                ASP   \n",
       "\n",
       "                            description  \\\n",
       "0                                   NaN   \n",
       "1                                   NaN   \n",
       "2                                   NaN   \n",
       "3                                   NaN   \n",
       "4                                   NaN   \n",
       "..                                  ...   \n",
       "68  All actions (unique by transformer)   \n",
       "69                                  NDC   \n",
       "70                             Net Zero   \n",
       "71                                S BAU   \n",
       "72                                S ASP   \n",
       "\n",
       "                         transformation_specification  baseline_strategy_id  \n",
       "0                                             TX:BASE                     1  \n",
       "1                                TX:AGRC:DEC_CH4_RICE                     0  \n",
       "2                                 TX:AGRC:DEC_EXPORTS                     0  \n",
       "3                     TX:AGRC:DEC_LOSSES_SUPPLY_CHAIN                     0  \n",
       "4                TX:AGRC:INC_CONSERVATION_AGRICULTURE                     0  \n",
       "..                                                ...                   ...  \n",
       "68  TX:AGRC:DEC_CH4_RICE|TX:AGRC:DEC_EXPORTS|TX:AG...                     0  \n",
       "69  TX:AGRC:DEC_CH4_RICE_STRATEGY_NDC|TX:AGRC:INC_...                     0  \n",
       "70  TX:SCOE:DEC_DEMAND_HEAT_STRATEGY_NZ|TX:AGRC:DE...                     0  \n",
       "71  TX:LVST:INC_PRODUCTIVITY_STRATEGY_BAU|TX:AGRC:...                     0  \n",
       "72  TX:LVST:INC_PRODUCTIVITY_STRATEGY_ASP|TX:AGRC:...                     0  \n",
       "\n",
       "[73 rows x 6 columns]"
      ]
     },
     "execution_count": 29,
     "metadata": {},
     "output_type": "execute_result"
    }
   ],
   "source": [
    "strategies.attribute_table"
   ]
  },
  {
   "cell_type": "markdown",
   "id": "960373ce-9c92-4998-87e1-79563b4b7800",
   "metadata": {},
   "source": [
    "##  Build our templates\n",
    "- let's use the default variable groupings for LHS"
   ]
  },
  {
   "cell_type": "code",
   "execution_count": 30,
   "id": "fb46000c-f47a-4fcd-ae46-44bf7fab2e99",
   "metadata": {},
   "outputs": [
    {
     "name": "stdout",
     "output_type": "stream",
     "text": [
      "starting strat 6003 with input shape (36, 2220)\n",
      "strat 6003 with output shape (36, 2220)\n",
      "here = 6003\n",
      "starting strat 6004 with input shape (36, 2220)\n",
      "strat 6004 with output shape (36, 2220)\n",
      "here = 6004\n",
      "starting strat 6005 with input shape (36, 2220)\n",
      "strat 6005 with output shape (36, 2220)\n",
      "here = 6005\n"
     ]
    },
    {
     "data": {
      "text/plain": [
       "0"
      ]
     },
     "execution_count": 30,
     "metadata": {},
     "output_type": "execute_result"
    }
   ],
   "source": [
    "# Building excel templates, make sure to include the strategies ids in the strategies attribute as well as the baseline (0)\n",
    "df_vargroups = examples(\"variable_trajectory_group_specification\")\n",
    "\n",
    "strategies.build_strategies_to_templates(\n",
    "    df_trajgroup = df_vargroups,\n",
    "    include_simplex_group_as_trajgroup = True,\n",
    "    strategies = strategies_to_run,\n",
    ")"
   ]
  },
  {
   "cell_type": "markdown",
   "id": "dec04da7-dd23-437c-bcc2-fd63541c44f5",
   "metadata": {},
   "source": [
    "# Finally, load SISEPUEDE so that we can run it"
   ]
  },
  {
   "cell_type": "code",
   "execution_count": 31,
   "id": "749d1cae-41a3-4344-b0ff-db9d8d41a619",
   "metadata": {
    "collapsed": true,
    "jupyter": {
     "outputs_hidden": true
    }
   },
   "outputs": [
    {
     "name": "stderr",
     "output_type": "stream",
     "text": [
      "2025-05-06 12:53:46,831 - INFO - Successfully initialized SISEPUEDEFileStructure.\n",
      "2025-05-06 12:53:46,834 - WARNING - Missing key dict_dimensional_keys: key time_series not found. Tables that rely on the time_series will not have index checking.\n",
      "2025-05-06 12:53:46,834 - INFO - \tSetting export engine to 'csv'.\n",
      "2025-05-06 12:53:46,835 - WARNING - No index fields defined. Index field values will not be checked when writing to tables.\n",
      "2025-05-06 12:53:46,835 - INFO - Successfully instantiated table ANALYSIS_METADATA\n",
      "2025-05-06 12:53:46,836 - WARNING - No index fields found in ATTRIBUTE_DESIGN. Initializing index fields.\n",
      "2025-05-06 12:53:46,837 - INFO - Successfully instantiated table ATTRIBUTE_DESIGN\n",
      "2025-05-06 12:53:46,837 - WARNING - No index fields found in ATTRIBUTE_LHC_SAMPLES_EXOGENOUS_UNCERTAINTIES. Initializing index fields.\n",
      "2025-05-06 12:53:46,837 - INFO - Successfully instantiated table ATTRIBUTE_LHC_SAMPLES_EXOGENOUS_UNCERTAINTIES\n",
      "2025-05-06 12:53:46,838 - WARNING - No index fields found in ATTRIBUTE_LHC_SAMPLES_LEVER_EFFECTS. Initializing index fields.\n",
      "2025-05-06 12:53:46,838 - INFO - Successfully instantiated table ATTRIBUTE_LHC_SAMPLES_LEVER_EFFECTS\n",
      "2025-05-06 12:53:46,839 - WARNING - No index fields found in ATTRIBUTE_PRIMARY. Initializing index fields.\n",
      "2025-05-06 12:53:46,839 - INFO - Successfully instantiated table ATTRIBUTE_PRIMARY\n",
      "2025-05-06 12:53:46,839 - WARNING - No index fields found in ATTRIBUTE_STRATEGY. Initializing index fields.\n",
      "2025-05-06 12:53:46,840 - INFO - Successfully instantiated table ATTRIBUTE_STRATEGY\n",
      "2025-05-06 12:53:46,840 - WARNING - No index fields found in MODEL_BASE_INPUT_DATABASE. Initializing index fields.\n",
      "2025-05-06 12:53:46,840 - INFO - Successfully instantiated table MODEL_BASE_INPUT_DATABASE\n",
      "2025-05-06 12:53:46,840 - WARNING - No index fields found in MODEL_INPUT. Initializing index fields.\n",
      "2025-05-06 12:53:46,841 - INFO - Successfully instantiated table MODEL_INPUT\n",
      "2025-05-06 12:53:46,841 - WARNING - No index fields found in MODEL_OUTPUT. Initializing index fields.\n",
      "2025-05-06 12:53:46,842 - INFO - Successfully instantiated table MODEL_OUTPUT\n",
      "2025-05-06 12:53:46,842 - INFO - SISEPUEDEOutputDatabase successfully initialized IterativeDatabase.\n",
      "2025-05-06 12:53:46,843 - INFO - Successfully initialized database with:\n",
      "\ttype:\tcsv\n",
      "\tanalysis id:\tsisepuede_run_2025-05-06T12:53:46.298256\n",
      "\tfp_base_output:\t/home/fabian_fuentes/anaconda3/envs/ssp_uganda/lib/python3.11/site-packages/sisepuede/out/sisepuede_run_2025-05-06T12;53;46.298256/sisepuede_run_2025-05-06T12;53;46.298256_output_database\n",
      "2025-05-06 12:53:46,843 - INFO - Running SISEPUEDE under template data mode 'calibrated'.\n",
      "2025-05-06 12:53:46,843 - INFO - Initializing BaseInputDatabase\n",
      "2025-05-06 12:53:47,244 - INFO - Initializing FutureTrajectories\n",
      "2025-05-06 12:53:50,328 - INFO - Instantiating 1502 sampling units.\n",
      "2025-05-06 12:53:50,351 - INFO - Iteration 0 complete.\n",
      "2025-05-06 12:53:54,884 - INFO - Iteration 250 complete.\n",
      "2025-05-06 12:53:57,921 - INFO - Iteration 500 complete.\n",
      "2025-05-06 12:54:01,080 - INFO - Iteration 750 complete.\n",
      "2025-05-06 12:54:03,810 - INFO - Iteration 1000 complete.\n",
      "2025-05-06 12:54:06,774 - INFO - Iteration 1250 complete.\n",
      "2025-05-06 12:54:09,607 - INFO - Iteration 1500 complete.\n",
      "2025-05-06 12:54:09,619 - INFO - \t1502 sampling units complete in 19.29 seconds.\n",
      "2025-05-06 12:54:09,629 - INFO - \tFutureTrajectories for 'uganda' complete.\n",
      "2025-05-06 12:54:09,630 - INFO - Initializing LHSDesign\n",
      "2025-05-06 12:54:09,630 - INFO - LHSDesign.fields_factors_l reset successful.\n",
      "2025-05-06 12:54:09,631 - INFO - LHSDesign.fields_factors_x reset successful.\n",
      "2025-05-06 12:54:09,644 - INFO - \tLHSDesign for region 'uganda' complete.\n",
      "2025-05-06 12:54:09,644 - INFO - Generating primary keys (values of primary_id)...\n",
      "2025-05-06 12:54:09,645 - INFO - Successfully initialized SISEPUEDEExperimentalManager.\n",
      "2025-05-06 12:54:09,645 - INFO - Successfully initialized NemoMod temporary database path as /home/fabian_fuentes/anaconda3/envs/ssp_uganda/lib/python3.11/site-packages/sisepuede/tmp/nemomod_intermediate_database.sqlite.\n",
      "2025-05-06 12:54:09,646 - INFO - Set Julia directory for modules and environment to '/home/fabian_fuentes/anaconda3/envs/ssp_uganda/lib/python3.11/site-packages/sisepuede/julia'.\n",
      "2025-05-06 12:54:09,713 - INFO - Successfully initialized SISEPUEDEModels.\n",
      "2025-05-06 12:54:09,719 - INFO - Table ANALYSIS_METADATA successfully written to /home/fabian_fuentes/anaconda3/envs/ssp_uganda/lib/python3.11/site-packages/sisepuede/out/sisepuede_run_2025-05-06T12;53;46.298256/sisepuede_run_2025-05-06T12;53;46.298256_output_database/ANALYSIS_METADATA.csv.\n",
      "2025-05-06 12:54:09,720 - INFO - Table ATTRIBUTE_DESIGN successfully written to /home/fabian_fuentes/anaconda3/envs/ssp_uganda/lib/python3.11/site-packages/sisepuede/out/sisepuede_run_2025-05-06T12;53;46.298256/sisepuede_run_2025-05-06T12;53;46.298256_output_database/ATTRIBUTE_DESIGN.csv.\n",
      "2025-05-06 12:54:09,722 - INFO - Table ATTRIBUTE_STRATEGY successfully written to /home/fabian_fuentes/anaconda3/envs/ssp_uganda/lib/python3.11/site-packages/sisepuede/out/sisepuede_run_2025-05-06T12;53;46.298256/sisepuede_run_2025-05-06T12;53;46.298256_output_database/ATTRIBUTE_STRATEGY.csv.\n",
      "2025-05-06 12:54:09,849 - INFO - Table MODEL_BASE_INPUT_DATABASE successfully written to /home/fabian_fuentes/anaconda3/envs/ssp_uganda/lib/python3.11/site-packages/sisepuede/out/sisepuede_run_2025-05-06T12;53;46.298256/sisepuede_run_2025-05-06T12;53;46.298256_output_database/MODEL_BASE_INPUT_DATABASE.csv.\n"
     ]
    }
   ],
   "source": [
    "import sisepuede as si\n",
    "# timestamp_str = datetime.now().strftime(\"%Y-%m-%d %H:%M:%S\")\n",
    "ssp = si.SISEPUEDE(\n",
    "    \"calibrated\",\n",
    "    db_type = \"csv\",\n",
    "    # id_str = f\"sisepuede_run_2024-11-04T09:23:26.721580\",\n",
    "    initialize_as_dummy = not(energy_model_flag), # no connection to Julia is initialized if set to True\n",
    "    regions = [country_name],\n",
    "    strategies = strategies,\n",
    "    try_exogenous_xl_types_in_variable_specification = True,\n",
    ")"
   ]
  },
  {
   "cell_type": "code",
   "execution_count": 32,
   "id": "ace8ea38",
   "metadata": {},
   "outputs": [
    {
     "data": {
      "text/plain": [
       "True"
      ]
     },
     "execution_count": 32,
     "metadata": {},
     "output_type": "execute_result"
    }
   ],
   "source": [
    "not(energy_model_flag)"
   ]
  },
  {
   "cell_type": "code",
   "execution_count": 33,
   "id": "3e24634e-19a9-457f-909f-be5696f1ed14",
   "metadata": {
    "collapsed": true,
    "jupyter": {
     "outputs_hidden": true
    }
   },
   "outputs": [
    {
     "name": "stderr",
     "output_type": "stream",
     "text": [
      "2025-05-06 12:54:09,891 - INFO - \n",
      "***\tSTARTING REGION uganda\t***\n",
      "\n",
      "2025-05-06 12:54:12,720 - INFO - Trying run primary_id = 0 in region uganda\n",
      "2025-05-06 12:54:12,720 - INFO - Running AFOLU model\n",
      "2025-05-06 12:54:12,891 - INFO - AFOLU model run successfully completed\n",
      "2025-05-06 12:54:12,892 - INFO - Running CircularEconomy model\n",
      "2025-05-06 12:54:12,951 - INFO - CircularEconomy model run successfully completed\n",
      "2025-05-06 12:54:12,952 - INFO - Running IPPU model\n",
      "2025-05-06 12:54:13,045 - INFO - IPPU model run successfully completed\n",
      "2025-05-06 12:54:13,046 - INFO - Running Energy model (EnergyConsumption without Fugitive Emissions)\n",
      "2025-05-06 12:54:13,080 - DEBUG - Missing elasticity information found in 'project_energy_consumption_by_fuel_from_effvars': using specified future demands.\n",
      "2025-05-06 12:54:13,164 - INFO - EnergyConsumption without Fugitive Emissions model run successfully completed\n",
      "2025-05-06 12:54:13,165 - INFO - Running Energy (Fugitive Emissions)\n",
      "2025-05-06 12:54:13,201 - ERROR - Error running Fugitive Emissions from Energy model: 'NoneType' object has no attribute 'to_numpy'\n",
      "2025-05-06 12:54:13,202 - INFO - Appending Socioeconomic outputs\n",
      "2025-05-06 12:54:13,218 - INFO - Socioeconomic outputs successfully appended.\n",
      "2025-05-06 12:54:13,221 - INFO - Model run for primary_id = 0 successfully completed in 0.5 seconds (n_tries = 1).\n",
      "2025-05-06 12:54:13,236 - INFO - Trying run primary_id = 69069 in region uganda\n",
      "2025-05-06 12:54:13,237 - INFO - Running AFOLU model\n",
      "2025-05-06 12:54:13,383 - INFO - AFOLU model run successfully completed\n",
      "2025-05-06 12:54:13,383 - INFO - Running CircularEconomy model\n",
      "2025-05-06 12:54:13,426 - INFO - CircularEconomy model run successfully completed\n",
      "2025-05-06 12:54:13,427 - INFO - Running IPPU model\n",
      "2025-05-06 12:54:13,492 - INFO - IPPU model run successfully completed\n",
      "2025-05-06 12:54:13,493 - INFO - Running Energy model (EnergyConsumption without Fugitive Emissions)\n",
      "2025-05-06 12:54:13,509 - DEBUG - Missing elasticity information found in 'project_energy_consumption_by_fuel_from_effvars': using specified future demands.\n",
      "2025-05-06 12:54:13,589 - INFO - EnergyConsumption without Fugitive Emissions model run successfully completed\n",
      "2025-05-06 12:54:13,590 - INFO - Running Energy (Fugitive Emissions)\n",
      "2025-05-06 12:54:13,608 - ERROR - Error running Fugitive Emissions from Energy model: 'NoneType' object has no attribute 'to_numpy'\n",
      "2025-05-06 12:54:13,609 - INFO - Appending Socioeconomic outputs\n",
      "2025-05-06 12:54:13,615 - INFO - Socioeconomic outputs successfully appended.\n",
      "2025-05-06 12:54:13,619 - INFO - Model run for primary_id = 69069 successfully completed in 0.38 seconds (n_tries = 1).\n",
      "2025-05-06 12:54:13,622 - INFO - Trying run primary_id = 70070 in region uganda\n",
      "2025-05-06 12:54:13,623 - INFO - Running AFOLU model\n",
      "2025-05-06 12:54:13,768 - INFO - AFOLU model run successfully completed\n",
      "2025-05-06 12:54:13,769 - INFO - Running CircularEconomy model\n",
      "2025-05-06 12:54:13,810 - INFO - CircularEconomy model run successfully completed\n",
      "2025-05-06 12:54:13,811 - INFO - Running IPPU model\n",
      "2025-05-06 12:54:13,877 - INFO - IPPU model run successfully completed\n",
      "2025-05-06 12:54:13,878 - INFO - Running Energy model (EnergyConsumption without Fugitive Emissions)\n",
      "2025-05-06 12:54:13,894 - DEBUG - Missing elasticity information found in 'project_energy_consumption_by_fuel_from_effvars': using specified future demands.\n",
      "2025-05-06 12:54:13,977 - INFO - EnergyConsumption without Fugitive Emissions model run successfully completed\n",
      "2025-05-06 12:54:13,977 - INFO - Running Energy (Fugitive Emissions)\n",
      "2025-05-06 12:54:13,995 - ERROR - Error running Fugitive Emissions from Energy model: 'NoneType' object has no attribute 'to_numpy'\n",
      "2025-05-06 12:54:13,996 - INFO - Appending Socioeconomic outputs\n",
      "2025-05-06 12:54:14,002 - INFO - Socioeconomic outputs successfully appended.\n",
      "2025-05-06 12:54:14,005 - INFO - Model run for primary_id = 70070 successfully completed in 0.38 seconds (n_tries = 1).\n",
      "2025-05-06 12:54:14,008 - INFO - Trying run primary_id = 71071 in region uganda\n",
      "2025-05-06 12:54:14,009 - INFO - Running AFOLU model\n",
      "2025-05-06 12:54:14,181 - INFO - AFOLU model run successfully completed\n",
      "2025-05-06 12:54:14,181 - INFO - Running CircularEconomy model\n",
      "2025-05-06 12:54:14,236 - INFO - CircularEconomy model run successfully completed\n",
      "2025-05-06 12:54:14,237 - INFO - Running IPPU model\n",
      "2025-05-06 12:54:14,329 - INFO - IPPU model run successfully completed\n",
      "2025-05-06 12:54:14,330 - INFO - Running Energy model (EnergyConsumption without Fugitive Emissions)\n",
      "2025-05-06 12:54:14,363 - DEBUG - Missing elasticity information found in 'project_energy_consumption_by_fuel_from_effvars': using specified future demands.\n",
      "2025-05-06 12:54:14,450 - INFO - EnergyConsumption without Fugitive Emissions model run successfully completed\n",
      "2025-05-06 12:54:14,451 - INFO - Running Energy (Fugitive Emissions)\n",
      "2025-05-06 12:54:14,488 - ERROR - Error running Fugitive Emissions from Energy model: 'NoneType' object has no attribute 'to_numpy'\n",
      "2025-05-06 12:54:14,488 - INFO - Appending Socioeconomic outputs\n",
      "2025-05-06 12:54:14,505 - INFO - Socioeconomic outputs successfully appended.\n",
      "2025-05-06 12:54:14,508 - INFO - Model run for primary_id = 71071 successfully completed in 0.5 seconds (n_tries = 1).\n",
      "2025-05-06 12:54:14,510 - INFO - \n",
      "***\t REGION uganda COMPLETE\t***\n",
      "\n",
      "2025-05-06 12:54:14,598 - INFO - Table MODEL_OUTPUT successfully written to /home/fabian_fuentes/anaconda3/envs/ssp_uganda/lib/python3.11/site-packages/sisepuede/out/sisepuede_run_2025-05-06T12;53;46.298256/sisepuede_run_2025-05-06T12;53;46.298256_output_database/MODEL_OUTPUT.csv.\n",
      "2025-05-06 12:54:14,601 - INFO - Table ATTRIBUTE_PRIMARY successfully written to /home/fabian_fuentes/anaconda3/envs/ssp_uganda/lib/python3.11/site-packages/sisepuede/out/sisepuede_run_2025-05-06T12;53;46.298256/sisepuede_run_2025-05-06T12;53;46.298256_output_database/ATTRIBUTE_PRIMARY.csv.\n",
      "2025-05-06 12:54:14,735 - INFO - Table MODEL_INPUT successfully written to /home/fabian_fuentes/anaconda3/envs/ssp_uganda/lib/python3.11/site-packages/sisepuede/out/sisepuede_run_2025-05-06T12;53;46.298256/sisepuede_run_2025-05-06T12;53;46.298256_output_database/MODEL_INPUT.csv.\n"
     ]
    },
    {
     "data": {
      "text/plain": [
       "{'uganda': [0, 69069, 70070, 71071]}"
      ]
     },
     "execution_count": 33,
     "metadata": {},
     "output_type": "execute_result"
    }
   ],
   "source": [
    "# This runs the model, make sure you edit key_stretegy with the strategy ids you want to execute include baseline (0)\n",
    "dict_scens = {\n",
    "    ssp.key_design: [0],\n",
    "    ssp.key_future: [0],\n",
    "    ssp.key_strategy: strategies_to_run,\n",
    "}\n",
    "\n",
    "ssp.project_scenarios(\n",
    "    dict_scens,\n",
    "    save_inputs = True,\n",
    "    include_electricity_in_energy = energy_model_flag\n",
    ")"
   ]
  },
  {
   "cell_type": "code",
   "execution_count": 34,
   "id": "618f54b8-82f4-47e0-99a0-47b894039ccc",
   "metadata": {},
   "outputs": [],
   "source": [
    "# Read input and output files\n",
    "df_out = ssp.read_output(None)\n",
    "df_in = ssp.read_input(None)"
   ]
  },
  {
   "cell_type": "markdown",
   "id": "5bf46be0-6ab4-4731-b922-eb21eeefef7b",
   "metadata": {},
   "source": [
    "# Export Wide File (Last Mandatory Step)"
   ]
  },
  {
   "cell_type": "code",
   "execution_count": 35,
   "id": "f8ac388d-9ff2-45fc-a49a-ad5af38a0b07",
   "metadata": {},
   "outputs": [],
   "source": [
    "df_out = ssp.read_output(None)\n",
    "df_in = ssp.read_input(None)\n",
    "\n",
    "\n",
    "all_primaries = sorted(list(df_out[ssp.key_primary].unique()))\n",
    "\n",
    "# build if unable to simply read the data frame\n",
    "if df_in is None:\n",
    "    df_in = []\n",
    "     \n",
    "    for region in ssp.regions:\n",
    "        for primary in all_primaries: \n",
    "            df_in_filt = ssp.generate_scenario_database_from_primary_key(primary)\n",
    "            df_in.append(df_in_filt.get(region))\n",
    "    \n",
    "    df_in = pd.concat(df_in, axis = 0).reset_index(drop = True)\n",
    "\n",
    "\n",
    "\n",
    "\n",
    "df_export = pd.merge(\n",
    "    df_out,\n",
    "    df_in,\n",
    "    how = \"left\",\n",
    ")\n",
    "\n",
    "\n",
    "\n",
    "# check output directory \n",
    "dir_pkg = os.path.join(\n",
    "    ssp.file_struct.dir_out, \n",
    "    f\"sisepuede_summary_results_run_{ssp.id_fs_safe}\"\n",
    ")\n",
    "os.makedirs(dir_pkg) if not os.path.exists(dir_pkg) else None\n",
    "\n",
    "\n",
    "for tab in [\"ATTRIBUTE_STRATEGY\"]:\n",
    "    table_df = ssp.database.db.read_table(tab)\n",
    "    if table_df is not None:\n",
    "        table_df.to_csv(\n",
    "            os.path.join(dir_pkg, f\"{tab}.csv\"),\n",
    "            index=None,\n",
    "            encoding=\"UTF-8\"\n",
    "        )\n",
    "    else:\n",
    "        print(f\"Warning: Table {tab} returned None.\")\n",
    "\n",
    "\n",
    "df_primary = (\n",
    "    ssp\n",
    "    .odpt_primary\n",
    "    .get_indexing_dataframe(\n",
    "        sorted(list(df_out[ssp.key_primary].unique()))\n",
    "    )\n",
    ")\n",
    "    \n",
    "df_primary.to_csv(\n",
    "    os.path.join(dir_pkg, f\"ATTRIBUTE_PRIMARY.csv\"),\n",
    "    index = None,\n",
    "    encoding = \"UTF-8\"\n",
    ")\n",
    "\n",
    "df_export.to_csv(\n",
    "    os.path.join(dir_pkg, f\"sisepuede_results_{ssp.id_fs_safe}_WIDE_INPUTS_OUTPUTS.csv\"),\n",
    "    index = None,\n",
    "    encoding = \"UTF-8\"\n",
    ")"
   ]
  },
  {
   "cell_type": "code",
   "execution_count": 36,
   "id": "4bc34b5e",
   "metadata": {},
   "outputs": [
    {
     "data": {
      "text/plain": [
       "'/home/fabian_fuentes/anaconda3/envs/ssp_uganda/lib/python3.11/site-packages/sisepuede/out'"
      ]
     },
     "execution_count": 36,
     "metadata": {},
     "output_type": "execute_result"
    }
   ],
   "source": [
    "# Getting the directory where the outputs are stored\n",
    "ssp.file_struct.dir_out"
   ]
  },
  {
   "cell_type": "code",
   "execution_count": 38,
   "id": "e3626cd0",
   "metadata": {},
   "outputs": [],
   "source": [
    "df_primary.to_csv(\n",
    "    os.path.join(dir_out, f\"ATTRIBUTE_PRIMARY.csv\"),\n",
    "    index = None,\n",
    "    encoding = \"UTF-8\"\n",
    ")\n",
    "\n",
    "df_export.to_csv(\n",
    "    os.path.join(dir_out, f\"sisepuede_results_sisepuede_bau_run.csv\"),\n",
    "    index = None,\n",
    "    encoding = \"UTF-8\"\n",
    ")\n",
    "\n",
    "for tab in [\"ATTRIBUTE_STRATEGY\"]:\n",
    "    table_df = ssp.database.db.read_table(tab)\n",
    "    if table_df is not None:\n",
    "        table_df.to_csv(\n",
    "            os.path.join(dir_out, f\"{tab}.csv\"),\n",
    "            index=None,\n",
    "            encoding=\"UTF-8\"\n",
    "        )\n",
    "    else:\n",
    "        print(f\"Warning: Table {tab} returned None.\")"
   ]
  }
 ],
 "metadata": {
  "kernelspec": {
   "display_name": "ssp_uganda",
   "language": "python",
   "name": "python3"
  },
  "language_info": {
   "codemirror_mode": {
    "name": "ipython",
    "version": 3
   },
   "file_extension": ".py",
   "mimetype": "text/x-python",
   "name": "python",
   "nbconvert_exporter": "python",
   "pygments_lexer": "ipython3",
   "version": "3.11.11"
  }
 },
 "nbformat": 4,
 "nbformat_minor": 5
}
